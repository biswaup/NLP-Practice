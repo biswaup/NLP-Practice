{
 "cells": [
  {
   "cell_type": "markdown",
   "metadata": {
    "colab_type": "text",
    "id": "-CB404F4Zlcu"
   },
   "source": [
    "## Assignment 3.1. Sequence Classification"
   ]
  },
  {
   "cell_type": "markdown",
   "metadata": {
    "colab_type": "text",
    "id": "b07EkGYLZlc1"
   },
   "source": [
    "## Task 1.1: Document-level Sentiment Classification"
   ]
  },
  {
   "cell_type": "markdown",
   "metadata": {
    "colab_type": "text",
    "id": "vYUQ1MD2Zlc5"
   },
   "source": [
    "Build a Bidirectional Recurrent Neural Network (RNN) model for multi-class sentiment classification. Compare the performance with a Unidirectional RNN model. Your model (each) shall\n",
    "include:\n",
    "\n",
    "- RNN network that learns sentence representation from input sequences.\n",
    "- Fully connected network that predicts sentiment label, given the learnt state representation.\n",
    "\n",
    "\n",
    "Train the model by using data iterator and batch generator. Evaluate the trained model on\n",
    "the provided test set."
   ]
  },
  {
   "cell_type": "markdown",
   "metadata": {
    "colab_type": "text",
    "id": "dGoiD2viPOTK"
   },
   "source": [
    "### ==> Domain name used: yelp14\n",
    "\n",
    "Instead of lt14, we have used yelp14 for both document and aspect classification."
   ]
  },
  {
   "cell_type": "code",
   "execution_count": 0,
   "metadata": {
    "colab": {
     "base_uri": "https://localhost:8080/",
     "height": 124
    },
    "colab_type": "code",
    "id": "nP7gc5hgwVsi",
    "outputId": "970c4558-a7da-45c9-f1f9-770960abdb28"
   },
   "outputs": [
    {
     "name": "stdout",
     "output_type": "stream",
     "text": [
      "Go to this URL in a browser: https://accounts.google.com/o/oauth2/auth?client_id=947318989803-6bn6qk8qdgf4n4g3pfee6491hc0brc4i.apps.googleusercontent.com&redirect_uri=urn%3Aietf%3Awg%3Aoauth%3A2.0%3Aoob&scope=email%20https%3A%2F%2Fwww.googleapis.com%2Fauth%2Fdocs.test%20https%3A%2F%2Fwww.googleapis.com%2Fauth%2Fdrive%20https%3A%2F%2Fwww.googleapis.com%2Fauth%2Fdrive.photos.readonly%20https%3A%2F%2Fwww.googleapis.com%2Fauth%2Fpeopleapi.readonly&response_type=code\n",
      "\n",
      "Enter your authorization code:\n",
      "··········\n",
      "Mounted at /content/drive\n"
     ]
    }
   ],
   "source": [
    "from google.colab import drive\n",
    "drive.mount('/content/drive')"
   ]
  },
  {
   "cell_type": "code",
   "execution_count": 0,
   "metadata": {
    "colab": {},
    "colab_type": "code",
    "id": "ycqvbCdGcjfj"
   },
   "outputs": [],
   "source": [
    "# Path\n",
    "absolute_path = '/content/drive/My Drive/TUE -EIT (me)/Recommender Systems/Assignment 3 - Sequential networks/Document Level/'\n",
    "data_path = absolute_path + 'doc_level/'"
   ]
  },
  {
   "cell_type": "code",
   "execution_count": 0,
   "metadata": {
    "colab": {},
    "colab_type": "code",
    "id": "zqr2TjHTcGnV"
   },
   "outputs": [],
   "source": [
    "import os\n",
    "import sys\n",
    "import codecs\n",
    "import operator\n",
    "import numpy as np\n",
    "import re\n",
    "from time import time\n",
    "import matplotlib.pyplot as plt\n",
    "import _pickle as cPickle\n",
    "import operator\n",
    "%matplotlib notebook\n",
    "plt.style.use('ggplot')\n",
    "\n",
    "from keras.preprocessing import sequence\n",
    "from keras.utils.np_utils import to_categorical\n",
    "import keras.backend as K\n",
    "from keras.callbacks import EarlyStopping, ModelCheckpoint\n"
   ]
  },
  {
   "cell_type": "code",
   "execution_count": 0,
   "metadata": {
    "colab": {},
    "colab_type": "code",
    "id": "N3rdJW5pkXUl"
   },
   "outputs": [],
   "source": [
    "# parameters\n",
    "maxlen = 300\n",
    "batch_size = 32"
   ]
  },
  {
   "cell_type": "markdown",
   "metadata": {
    "colab_type": "text",
    "id": "jqnyCf-Iv5Fc"
   },
   "source": [
    "### Reading preprocess data"
   ]
  },
  {
   "cell_type": "code",
   "execution_count": 0,
   "metadata": {
    "colab": {},
    "colab_type": "code",
    "id": "gJ-8y1Ppv5Fe"
   },
   "outputs": [],
   "source": [
    "def read_pickle(data_path, file_name):\n",
    "\n",
    "    f = open(os.path.join(data_path, file_name), 'rb')\n",
    "    read_file = cPickle.load(f)\n",
    "    f.close()\n",
    "\n",
    "    return read_file\n",
    "\n",
    "def save_pickle(data_path, file_name, data):\n",
    "\n",
    "    f = open(os.path.join(data_path, file_name), 'wb')\n",
    "    cPickle.dump(data, f)\n",
    "    print(\" file saved to: %s\"%(os.path.join(data_path, file_name)))\n",
    "    f.close()"
   ]
  },
  {
   "cell_type": "code",
   "execution_count": 0,
   "metadata": {
    "colab": {},
    "colab_type": "code",
    "id": "ahxQS07Rcjkt"
   },
   "outputs": [],
   "source": [
    "words_idx = read_pickle(data_path, 'words_idx.pkl')\n",
    "idx_words = read_pickle(data_path, 'idx_words.pkl')\n",
    "data = read_pickle(data_path, 'data.pkl')\n",
    "label = read_pickle(data_path, 'label.pkl')"
   ]
  },
  {
   "cell_type": "code",
   "execution_count": 0,
   "metadata": {
    "colab": {},
    "colab_type": "code",
    "id": "UmtmfXuBc08o"
   },
   "outputs": [],
   "source": [
    "# Creating train and test sets\n",
    "\n",
    "rand_idx = np.arange(len(data))\n",
    "np.random.shuffle(rand_idx)\n",
    "\n",
    "data = data[rand_idx]\n",
    "label = to_categorical(label)[rand_idx]\n",
    "\n",
    "data_size = len(data)\n",
    "\n",
    "test_x = data[0:1000]\n",
    "test_y = label[0:1000]\n",
    "\n",
    "dev_x = data[1000:5000]\n",
    "dev_y = label[1000:5000]\n",
    "\n",
    "train_x = data[5000:int(data_size)]\n",
    "train_y = label[5000:int(data_size)]\n",
    "\n",
    "words_idx = [x for (x, _) in sorted(words_idx.items(), key=operator.itemgetter(1))]\n",
    "\n",
    "train_x_ = sequence.pad_sequences(train_x, maxlen)\n",
    "dev_x_ = sequence.pad_sequences(dev_x, maxlen)\n",
    "test_x_ = sequence.pad_sequences(test_x, maxlen)\n",
    "\n",
    "train_x_ = np.array(train_x_)\n",
    "train_y = np.array(train_y)\n",
    "dev_x_ = np.array(dev_x_)\n",
    "dev_y = np.array(dev_y)\n",
    "test_x_ = np.array(test_x_)\n",
    "test_y = np.array(test_y)"
   ]
  },
  {
   "cell_type": "code",
   "execution_count": 0,
   "metadata": {
    "colab": {},
    "colab_type": "code",
    "id": "_o2Dg4jMlDAE"
   },
   "outputs": [],
   "source": [
    "# Data iterator\n",
    "\n",
    "class Dataiterator():\n",
    "    '''\n",
    "      1) Iteration over minibatches using next(); call reset() between epochs to randomly shuffle the data\n",
    "      2) Access to the entire dataset using all()\n",
    "    '''\n",
    "    \n",
    "    def __init__(self, X, y, seq_length=32, decoder_dim=300, batch_size=32):      \n",
    "        self.X = X \n",
    "        self.y = y \n",
    "        self.num_data = len(X) # total number of examples\n",
    "        self.batch_size = batch_size # batch size\n",
    "        self.reset() # initial: shuffling examples and set index to 0\n",
    "    \n",
    "    def __iter__(self): # iterates data\n",
    "        return self\n",
    "\n",
    "\n",
    "    def reset(self): # initials\n",
    "        self.idx = 0\n",
    "        self.order = np.random.permutation(self.num_data) # shuffling examples by providing randomized ids \n",
    "        \n",
    "    def __next__(self): # return model inputs - outputs per batch\n",
    "        X_ids = [] # hold ids per batch \n",
    "        while len(X_ids) < self.batch_size:\n",
    "            X_id = self.order[self.idx] # copy random id from initial shuffling\n",
    "            X_ids.append(X_id)\n",
    "            self.idx += 1 # \n",
    "            if self.idx >= self.num_data: # exception if all examples of data have been seen (iterated)\n",
    "                self.reset()\n",
    "                raise StopIteration()\n",
    "        batch_X = self.X[np.array(X_ids)] # X values (encoder input) per batch\n",
    "        batch_y = self.y[np.array(X_ids)] # y_in values (decoder input) per batch\n",
    "        return batch_X, batch_y\n",
    "\n",
    "          \n",
    "    def all(self): # return all data examples\n",
    "        return self.X, self.y"
   ]
  },
  {
   "cell_type": "markdown",
   "metadata": {
    "colab_type": "text",
    "id": "enSu9o4kFmFC"
   },
   "source": [
    "## Unidirectional RNN Model for document level sentiment classification"
   ]
  },
  {
   "cell_type": "code",
   "execution_count": 0,
   "metadata": {
    "colab": {},
    "colab_type": "code",
    "id": "v3I5jfM4DBVL"
   },
   "outputs": [],
   "source": [
    "# model parameters\n",
    "dropout= 0.5\n",
    "recurrent_dropout = 0.3\n",
    "early_stop_patience = 1"
   ]
  },
  {
   "cell_type": "code",
   "execution_count": 0,
   "metadata": {
    "colab": {
     "base_uri": "https://localhost:8080/",
     "height": 141
    },
    "colab_type": "code",
    "id": "OBf-fN05ZldE",
    "outputId": "6e7ee488-b2e0-42c4-8727-d9f0cbc9fa0d"
   },
   "outputs": [
    {
     "name": "stdout",
     "output_type": "stream",
     "text": [
      "WARNING:tensorflow:From /usr/local/lib/python3.6/dist-packages/tensorflow/python/framework/op_def_library.py:263: colocate_with (from tensorflow.python.framework.ops) is deprecated and will be removed in a future version.\n",
      "Instructions for updating:\n",
      "Colocations handled automatically by placer.\n",
      "WARNING:tensorflow:From /usr/local/lib/python3.6/dist-packages/keras/backend/tensorflow_backend.py:3445: calling dropout (from tensorflow.python.ops.nn_ops) with keep_prob is deprecated and will be removed in a future version.\n",
      "Instructions for updating:\n",
      "Please use `rate` instead of `keep_prob`. Rate should be set to `rate = 1 - keep_prob`.\n"
     ]
    }
   ],
   "source": [
    "K.clear_session()\n",
    "\n",
    "from keras.layers import Dense, Dropout, Activation, Embedding, LSTM, Input, Bidirectional\n",
    "from keras.models import Model\n",
    "import keras.optimizers as opt\n",
    "\n",
    "# input layer\n",
    "sentence_input = Input(shape=(None,), dtype='int32', name='sentence_input')\n",
    "\n",
    "# layer to train the emedding\n",
    "vocab_size = len(words_idx)\n",
    "word_emb = Embedding(vocab_size, 300, mask_zero=True, name='word_emb')\n",
    "emb_output = word_emb(sentence_input)\n",
    "\n",
    "# RNN-based layer\n",
    "lstm_layer = LSTM(300, return_sequences=False, dropout=dropout, \\\n",
    "              recurrent_dropout=recurrent_dropout, name='lstm')(emb_output)\n",
    "\n",
    "# prediction layer\n",
    "densed = Dense(3, name='dense')(lstm_layer)\n",
    "probs = Activation('softmax')(densed)\n",
    "\n",
    "# model\n",
    "model = Model(inputs=[sentence_input], outputs=probs)\n",
    "optimizer = opt.RMSprop(lr=0.001, rho=0.9, epsilon=1e-06, clipnorm=10, clipvalue=0)\n",
    "model.compile(optimizer=optimizer, loss='categorical_crossentropy', metrics=['categorical_accuracy'])"
   ]
  },
  {
   "cell_type": "code",
   "execution_count": 0,
   "metadata": {
    "colab": {
     "base_uri": "https://localhost:8080/",
     "height": 312
    },
    "colab_type": "code",
    "id": "MnW2M53ICOXU",
    "outputId": "8aa07f0b-ec06-4144-ec08-0fcaf42deb3b"
   },
   "outputs": [
    {
     "name": "stdout",
     "output_type": "stream",
     "text": [
      "_________________________________________________________________\n",
      "Layer (type)                 Output Shape              Param #   \n",
      "=================================================================\n",
      "sentence_input (InputLayer)  (None, None)              0         \n",
      "_________________________________________________________________\n",
      "word_emb (Embedding)         (None, None, 300)         3000900   \n",
      "_________________________________________________________________\n",
      "lstm (LSTM)                  (None, 300)               721200    \n",
      "_________________________________________________________________\n",
      "dense (Dense)                (None, 3)                 903       \n",
      "_________________________________________________________________\n",
      "activation_1 (Activation)    (None, 3)                 0         \n",
      "=================================================================\n",
      "Total params: 3,723,003\n",
      "Trainable params: 3,723,003\n",
      "Non-trainable params: 0\n",
      "_________________________________________________________________\n"
     ]
    }
   ],
   "source": [
    "model.summary()"
   ]
  },
  {
   "cell_type": "markdown",
   "metadata": {
    "colab_type": "text",
    "id": "LUPoRneRZleH"
   },
   "source": [
    "### Training"
   ]
  },
  {
   "cell_type": "code",
   "execution_count": 0,
   "metadata": {
    "colab": {},
    "colab_type": "code",
    "id": "8bbrPU9VCm2q"
   },
   "outputs": [],
   "source": [
    "def train_generator(model, batch_train_iter, batch_val_iter):\n",
    "    earlystop_callbacks = [EarlyStopping(monitor='val_loss', patience=early_stop_patience),\n",
    "                     ModelCheckpoint(filepath=os.path.join('./','{epoch:02d}-{loss:.2f}.check'), \\\n",
    "                                     monitor='val_loss', save_best_only=False, \\\n",
    "                                     save_weights_only=True)\n",
    "                     ]\n",
    "    \n",
    "    def train_gen():\n",
    "        while True:\n",
    "            train_batches = [[X, y] for X, y in batch_train_iter]\n",
    "            for train_batch in train_batches:\n",
    "                yield train_batch\n",
    "                \n",
    "    def val_gen():\n",
    "        while True:\n",
    "            val_batches = [[X, y] for X, y in batch_val_iter]\n",
    "            for val_batch in val_batches:\n",
    "                yield val_batch\n",
    "                \n",
    "    history = model.fit_generator(train_gen(), validation_data=val_gen(), \\\n",
    "                                  validation_steps=val_steps_epoch, steps_per_epoch=train_steps_epoch, \\\n",
    "                                  epochs = 20, callbacks = earlystop_callbacks)\n",
    "      \n",
    "    return history"
   ]
  },
  {
   "cell_type": "code",
   "execution_count": 0,
   "metadata": {
    "colab": {},
    "colab_type": "code",
    "id": "RP6YyuJJZleK"
   },
   "outputs": [],
   "source": [
    "# train batch\n",
    "train_steps_epoch = len(train_x_)/batch_size\n",
    "batch_train_iter = Dataiterator(train_x_, train_y, batch_size)\n",
    "\n",
    "# validation batch\n",
    "val_steps_epoch = len(dev_x_)/batch_size\n",
    "batch_val_iter = Dataiterator(dev_x_, dev_y, batch_size)"
   ]
  },
  {
   "cell_type": "code",
   "execution_count": 0,
   "metadata": {
    "colab": {
     "base_uri": "https://localhost:8080/",
     "height": 280
    },
    "colab_type": "code",
    "id": "WcQqbbKnv5HC",
    "outputId": "d97e99ce-39ba-4325-ad03-b6c1de237bf7"
   },
   "outputs": [
    {
     "name": "stdout",
     "output_type": "stream",
     "text": [
      "Epoch 1/20\n",
      "782/781 [==============================] - 468s 598ms/step - loss: 0.8209 - categorical_accuracy: 0.6297 - val_loss: 0.6757 - val_categorical_accuracy: 0.7060\n",
      "Epoch 2/20\n",
      "782/781 [==============================] - 466s 596ms/step - loss: 0.6513 - categorical_accuracy: 0.7278 - val_loss: 0.6045 - val_categorical_accuracy: 0.7472\n",
      "Epoch 3/20\n",
      "782/781 [==============================] - 466s 596ms/step - loss: 0.5721 - categorical_accuracy: 0.7631 - val_loss: 0.6245 - val_categorical_accuracy: 0.7370\n",
      "Epoch 4/20\n",
      "782/781 [==============================] - 556s 711ms/step - loss: 0.5101 - categorical_accuracy: 0.7907 - val_loss: 0.5466 - val_categorical_accuracy: 0.7612\n",
      "Epoch 5/20\n",
      "782/781 [==============================] - 611s 781ms/step - loss: 0.4572 - categorical_accuracy: 0.8154 - val_loss: 0.5245 - val_categorical_accuracy: 0.7808\n",
      "Epoch 6/20\n",
      "782/781 [==============================] - 461s 589ms/step - loss: 0.4137 - categorical_accuracy: 0.8362 - val_loss: 0.5466 - val_categorical_accuracy: 0.7825\n",
      "Epoch 7/20\n",
      "782/781 [==============================] - 464s 593ms/step - loss: 0.3744 - categorical_accuracy: 0.8558 - val_loss: 0.5816 - val_categorical_accuracy: 0.7745\n"
     ]
    }
   ],
   "source": [
    "history_unidirectional = train_generator(model, batch_train_iter, batch_val_iter)"
   ]
  },
  {
   "cell_type": "code",
   "execution_count": 0,
   "metadata": {
    "colab": {
     "base_uri": "https://localhost:8080/",
     "height": 317
    },
    "colab_type": "code",
    "id": "293qHgOl-4AB",
    "outputId": "3c9279e9-ec77-46c9-e0ab-a5316048a336"
   },
   "outputs": [
    {
     "data": {
      "text/plain": [
       "<matplotlib.legend.Legend at 0x7f7d33e3d710>"
      ]
     },
     "execution_count": 68,
     "metadata": {
      "tags": []
     },
     "output_type": "execute_result"
    },
    {
     "data": {
      "image/png": "[encoded data removed]",
      "text/plain": [
       "<Figure size 432x288 with 1 Axes>"
      ]
     },
     "metadata": {
      "tags": []
     },
     "output_type": "display_data"
    }
   ],
   "source": [
    "# Printing the Loss\n",
    "plt.plot(history_unidirectional.history['loss'])\n",
    "plt.plot(history_unidirectional.history['val_loss'])\n",
    "\n",
    "plt.xlabel('Epoch')\n",
    "plt.ylabel('Categorical CrossEntropy Loss')\n",
    "plt.title('Loss Over Time')\n",
    "plt.legend(['Train','Validation'])"
   ]
  },
  {
   "cell_type": "code",
   "execution_count": 0,
   "metadata": {
    "colab": {
     "base_uri": "https://localhost:8080/",
     "height": 317
    },
    "colab_type": "code",
    "id": "6IAWMM_E_KHJ",
    "outputId": "143303ab-7bd6-4dc9-8463-af11775c4282"
   },
   "outputs": [
    {
     "data": {
      "text/plain": [
       "<matplotlib.legend.Legend at 0x7f7d363f7748>"
      ]
     },
     "execution_count": 69,
     "metadata": {
      "tags": []
     },
     "output_type": "execute_result"
    },
    {
     "data": {
      "image/png": "[encoded data removed]",
      "text/plain": [
       "<Figure size 432x288 with 1 Axes>"
      ]
     },
     "metadata": {
      "tags": []
     },
     "output_type": "display_data"
    }
   ],
   "source": [
    "# Printing the Accuracy\n",
    "plt.plot(history_unidirectional.history['categorical_accuracy'])\n",
    "plt.plot(history_unidirectional.history['val_categorical_accuracy'])\n",
    "\n",
    "plt.xlabel('Epoch')\n",
    "plt.ylabel('Categorical Accuracy')\n",
    "plt.title('Categorical accuracy Over Time')\n",
    "plt.legend(['Train','Validation'])"
   ]
  },
  {
   "cell_type": "markdown",
   "metadata": {
    "colab_type": "text",
    "id": "m9akv0FhZleW"
   },
   "source": [
    "### Evaluate"
   ]
  },
  {
   "cell_type": "code",
   "execution_count": 0,
   "metadata": {
    "colab": {
     "base_uri": "https://localhost:8080/",
     "height": 52
    },
    "colab_type": "code",
    "id": "REd7VeKJfrPq",
    "outputId": "ddc4a6e4-eb9f-445d-9f2c-809dd8684626"
   },
   "outputs": [
    {
     "name": "stdout",
     "output_type": "stream",
     "text": [
      "test_loss: 0.61\n",
      "test_acc: 0.77\n"
     ]
    }
   ],
   "source": [
    "# Evaluate on test_set\n",
    "test_loss, test_acc = model.evaluate(test_x_, test_y, verbose = 2, batch_size = 32)\n",
    "print(\"test_loss: %.2f\" % (test_loss))\n",
    "print(\"test_acc: %.2f\" % (test_acc))\n"
   ]
  },
  {
   "cell_type": "markdown",
   "metadata": {
    "colab_type": "text",
    "id": "_JuE1ZyNZlfu"
   },
   "source": [
    "## Bidirectional RNN Model for document level sentiment classification"
   ]
  },
  {
   "cell_type": "code",
   "execution_count": 0,
   "metadata": {
    "colab": {
     "base_uri": "https://localhost:8080/",
     "height": 312
    },
    "colab_type": "code",
    "id": "5-4pLaEqZlfw",
    "outputId": "f6ae5126-7e01-4c8c-ebce-45f5abfe14fe"
   },
   "outputs": [
    {
     "name": "stdout",
     "output_type": "stream",
     "text": [
      "_________________________________________________________________\n",
      "Layer (type)                 Output Shape              Param #   \n",
      "=================================================================\n",
      "sentence_input (InputLayer)  (None, None)              0         \n",
      "_________________________________________________________________\n",
      "word_emb (Embedding)         (None, None, 300)         3000900   \n",
      "_________________________________________________________________\n",
      "bidirectional_1 (Bidirection (None, 600)               1442400   \n",
      "_________________________________________________________________\n",
      "dense (Dense)                (None, 3)                 1803      \n",
      "_________________________________________________________________\n",
      "activation_2 (Activation)    (None, 3)                 0         \n",
      "=================================================================\n",
      "Total params: 4,445,103\n",
      "Trainable params: 4,445,103\n",
      "Non-trainable params: 0\n",
      "_________________________________________________________________\n"
     ]
    }
   ],
   "source": [
    "bidirectional_units = 300\n",
    "\n",
    "sentence_input = Input(shape=(None,), dtype='int32', name='sentence_input')\n",
    "vocab_size = len(words_idx)\n",
    "word_emb = Embedding(vocab_size, 300, mask_zero=True, name='word_emb')\n",
    "emb_output = word_emb(sentence_input)\n",
    "\n",
    "dropout= 0.5\n",
    "recurrent_dropout = 0.1 \n",
    "lstm_layer = Bidirectional(LSTM(bidirectional_units, return_sequences=False, dropout=dropout, recurrent_dropout=recurrent_dropout, name='bilstm'))(emb_output)\n",
    "densed = Dense(3, name='dense')(lstm_layer)\n",
    "probs = Activation('softmax')(densed)\n",
    "biModel = Model(inputs=[sentence_input], outputs=probs)\n",
    "optimizer = opt.RMSprop(lr=0.001, rho=0.9, epsilon=1e-06, clipnorm=10, clipvalue=0)\n",
    "biModel.compile(optimizer=optimizer, loss='categorical_crossentropy', metrics=['categorical_accuracy'])\n",
    "biModel.summary()"
   ]
  },
  {
   "cell_type": "markdown",
   "metadata": {
    "colab_type": "text",
    "id": "Iv7C8RZyZlf2"
   },
   "source": [
    "### Training"
   ]
  },
  {
   "cell_type": "code",
   "execution_count": 0,
   "metadata": {
    "colab": {
     "base_uri": "https://localhost:8080/",
     "height": 211
    },
    "colab_type": "code",
    "id": "cwRndTXwgIij",
    "outputId": "5de8ab71-1a76-4c0f-83a6-b0cf4cc97a1b"
   },
   "outputs": [
    {
     "name": "stdout",
     "output_type": "stream",
     "text": [
      "Epoch 1/20\n",
      "782/781 [==============================] - 925s 1s/step - loss: 0.7514 - categorical_accuracy: 0.6698 - val_loss: 0.6120 - val_categorical_accuracy: 0.7418\n",
      "Epoch 2/20\n",
      "782/781 [==============================] - 923s 1s/step - loss: 0.5719 - categorical_accuracy: 0.7612 - val_loss: 0.5432 - val_categorical_accuracy: 0.7700\n",
      "Epoch 3/20\n",
      "782/781 [==============================] - 923s 1s/step - loss: 0.4983 - categorical_accuracy: 0.7957 - val_loss: 0.5373 - val_categorical_accuracy: 0.7722\n",
      "Epoch 4/20\n",
      "782/781 [==============================] - 932s 1s/step - loss: 0.4400 - categorical_accuracy: 0.8240 - val_loss: 0.5666 - val_categorical_accuracy: 0.7672\n",
      "Epoch 5/20\n",
      "782/781 [==============================] - 924s 1s/step - loss: 0.3887 - categorical_accuracy: 0.8449 - val_loss: 0.5472 - val_categorical_accuracy: 0.7748\n"
     ]
    }
   ],
   "source": [
    "history_bidirectional = train_generator(biModel, batch_train_iter, batch_val_iter)"
   ]
  },
  {
   "cell_type": "code",
   "execution_count": 0,
   "metadata": {
    "colab": {
     "base_uri": "https://localhost:8080/",
     "height": 317
    },
    "colab_type": "code",
    "id": "GbA3OZFB_ZCt",
    "outputId": "8f10f3c5-fa41-4ff9-8ef5-c9d12eae52c4"
   },
   "outputs": [
    {
     "data": {
      "text/plain": [
       "<matplotlib.legend.Legend at 0x7f7d3409d7b8>"
      ]
     },
     "execution_count": 73,
     "metadata": {
      "tags": []
     },
     "output_type": "execute_result"
    },
    {
     "data": {
      "image/png": "[encoded data removed]",
      "text/plain": [
       "<Figure size 432x288 with 1 Axes>"
      ]
     },
     "metadata": {
      "tags": []
     },
     "output_type": "display_data"
    }
   ],
   "source": [
    "# Printing the Loss\n",
    "plt.plot(history_bidirectional.history['loss'])\n",
    "plt.plot(history_bidirectional.history['val_loss'])\n",
    "\n",
    "plt.xlabel('Epoch')\n",
    "plt.ylabel('Categorical CrossEntropy Loss')\n",
    "plt.title('Loss Over Time')\n",
    "plt.legend(['Train','Validation'])"
   ]
  },
  {
   "cell_type": "code",
   "execution_count": 0,
   "metadata": {
    "colab": {
     "base_uri": "https://localhost:8080/",
     "height": 317
    },
    "colab_type": "code",
    "id": "PcRbeLiN_dpL",
    "outputId": "32d18451-121a-45ab-bca7-57694eae5cdf"
   },
   "outputs": [
    {
     "data": {
      "text/plain": [
       "<matplotlib.legend.Legend at 0x7f7d33f7f358>"
      ]
     },
     "execution_count": 74,
     "metadata": {
      "tags": []
     },
     "output_type": "execute_result"
    },
    {
     "data": {
      "image/png": "[encoded data removed]",
      "text/plain": [
       "<Figure size 432x288 with 1 Axes>"
      ]
     },
     "metadata": {
      "tags": []
     },
     "output_type": "display_data"
    }
   ],
   "source": [
    "# Printing the Accuracy\n",
    "plt.plot(history_bidirectional.history['categorical_accuracy'])\n",
    "plt.plot(history_bidirectional.history['val_categorical_accuracy'])\n",
    "\n",
    "plt.xlabel('Epoch')\n",
    "plt.ylabel('Categorical Accuracy')\n",
    "plt.title('Categorical accuracy Over Time')\n",
    "plt.legend(['Train','Validation'])"
   ]
  },
  {
   "cell_type": "markdown",
   "metadata": {
    "colab_type": "text",
    "id": "MaQ9mlYHZlf9"
   },
   "source": [
    "### Evaluate"
   ]
  },
  {
   "cell_type": "code",
   "execution_count": 0,
   "metadata": {
    "colab": {
     "base_uri": "https://localhost:8080/",
     "height": 52
    },
    "colab_type": "code",
    "id": "gjpVjwp99Wq2",
    "outputId": "d68f79f8-c591-4046-dd21-e47bd42dc1a1"
   },
   "outputs": [
    {
     "name": "stdout",
     "output_type": "stream",
     "text": [
      "test_loss: 0.59\n",
      "test_acc: 0.76\n"
     ]
    }
   ],
   "source": [
    "# Evaluation on Test set\n",
    "test_loss, test_acc = biModel.evaluate(test_x_, test_y, verbose = 2, batch_size = 32)\n",
    "print(\"test_loss: %.2f\" % (test_loss))\n",
    "print(\"test_acc: %.2f\" % (test_acc))\n"
   ]
  },
  {
   "cell_type": "markdown",
   "metadata": {
    "colab_type": "text",
    "id": "EWPydVgHG9b5"
   },
   "source": [
    "### * Extra experiment: Bimodel with 150 hidden units instead of 300\n",
    "\n",
    "The objective of this experiment, is to prove if the bidirectional model with 150 hidden states for looking backwards and 150 hidden states to look forward (300 in total) will achieve the same performance as the previous bidirectional model (which has 600 hidden states in total)."
   ]
  },
  {
   "cell_type": "code",
   "execution_count": 0,
   "metadata": {
    "colab": {
     "base_uri": "https://localhost:8080/",
     "height": 312
    },
    "colab_type": "code",
    "id": "rRFbiTdiHLDe",
    "outputId": "74041903-dba9-4483-fed9-fa31e6d08b59"
   },
   "outputs": [
    {
     "name": "stdout",
     "output_type": "stream",
     "text": [
      "_________________________________________________________________\n",
      "Layer (type)                 Output Shape              Param #   \n",
      "=================================================================\n",
      "sentence_input (InputLayer)  (None, None)              0         \n",
      "_________________________________________________________________\n",
      "word_emb (Embedding)         (None, None, 300)         3000900   \n",
      "_________________________________________________________________\n",
      "bidirectional_3 (Bidirection (None, 300)               541200    \n",
      "_________________________________________________________________\n",
      "dense (Dense)                (None, 3)                 903       \n",
      "_________________________________________________________________\n",
      "activation_4 (Activation)    (None, 3)                 0         \n",
      "=================================================================\n",
      "Total params: 3,543,003\n",
      "Trainable params: 3,543,003\n",
      "Non-trainable params: 0\n",
      "_________________________________________________________________\n"
     ]
    }
   ],
   "source": [
    "bidirectional_units = 150\n",
    "\n",
    "sentence_input = Input(shape=(None,), dtype='int32', name='sentence_input')\n",
    "vocab_size = len(words_idx)\n",
    "word_emb = Embedding(vocab_size, 300, mask_zero=True, name='word_emb')\n",
    "emb_output = word_emb(sentence_input)\n",
    "\n",
    "dropout= 0.5\n",
    "recurrent_dropout = 0.1 \n",
    "lstm_layer = Bidirectional(LSTM(bidirectional_units, return_sequences=False, dropout=dropout, recurrent_dropout=recurrent_dropout, name='bilstm'))(emb_output)\n",
    "densed = Dense(3, name='dense')(lstm_layer)\n",
    "probs = Activation('softmax')(densed)\n",
    "biModel_150 = Model(inputs=[sentence_input], outputs=probs)\n",
    "optimizer = opt.RMSprop(lr=0.001, rho=0.9, epsilon=1e-06, clipnorm=10, clipvalue=0)\n",
    "biModel_150.compile(optimizer=optimizer, loss='categorical_crossentropy', metrics=['categorical_accuracy'])\n",
    "biModel_150.summary()"
   ]
  },
  {
   "cell_type": "code",
   "execution_count": 0,
   "metadata": {
    "colab": {
     "base_uri": "https://localhost:8080/",
     "height": 228
    },
    "colab_type": "code",
    "id": "ykpJoaC0Kas0",
    "outputId": "1e685c78-9147-4601-e545-b7b1935bbfa8"
   },
   "outputs": [
    {
     "name": "stdout",
     "output_type": "stream",
     "text": [
      "WARNING:tensorflow:From /usr/local/lib/python3.6/dist-packages/tensorflow/python/ops/math_ops.py:3066: to_int32 (from tensorflow.python.ops.math_ops) is deprecated and will be removed in a future version.\n",
      "Instructions for updating:\n",
      "Use tf.cast instead.\n",
      "Epoch 1/20\n",
      "782/781 [==============================] - 1046s 1s/step - loss: 0.8641 - categorical_accuracy: 0.5946 - val_loss: 0.8052 - val_categorical_accuracy: 0.6435\n",
      "Epoch 2/20\n",
      "782/781 [==============================] - 1024s 1s/step - loss: 0.7107 - categorical_accuracy: 0.6874 - val_loss: 0.7811 - val_categorical_accuracy: 0.6442\n",
      "Epoch 3/20\n",
      "782/781 [==============================] - 1025s 1s/step - loss: 0.6293 - categorical_accuracy: 0.7293 - val_loss: 0.7168 - val_categorical_accuracy: 0.6760\n",
      "Epoch 4/20\n",
      "782/781 [==============================] - 1039s 1s/step - loss: 0.5718 - categorical_accuracy: 0.7604 - val_loss: 0.7747 - val_categorical_accuracy: 0.6795\n"
     ]
    }
   ],
   "source": [
    "history_bidirectional_150 = train_generator(biModel, batch_train_iter, batch_val_iter)"
   ]
  }
 ],
 "metadata": {
  "accelerator": "GPU",
  "colab": {
   "collapsed_sections": [],
   "name": "Assignment 3_Jose_1.1_Document.ipynb",
   "provenance": [],
   "version": "0.3.2"
  },
  "kernelspec": {
   "display_name": "Python 3",
   "language": "python",
   "name": "python3"
  },
  "language_info": {
   "codemirror_mode": {
    "name": "ipython",
    "version": 3
   },
   "file_extension": ".py",
   "mimetype": "text/x-python",
   "name": "python",
   "nbconvert_exporter": "python",
   "pygments_lexer": "ipython3",
   "version": "3.6.0"
  }
 },
 "nbformat": 4,
 "nbformat_minor": 1
}
